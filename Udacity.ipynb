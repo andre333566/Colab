{
  "nbformat": 4,
  "nbformat_minor": 0,
  "metadata": {
    "colab": {
      "provenance": [],
      "gpuType": "T4",
      "authorship_tag": "ABX9TyNifQ6RWcy0qVEKXL8/4Bjs",
      "include_colab_link": true
    },
    "kernelspec": {
      "name": "python3",
      "display_name": "Python 3"
    },
    "language_info": {
      "name": "python"
    },
    "accelerator": "GPU"
  },
  "cells": [
    {
      "cell_type": "markdown",
      "metadata": {
        "id": "view-in-github",
        "colab_type": "text"
      },
      "source": [
        "<a href=\"https://colab.research.google.com/github/andre333566/Colab/blob/main/Udacity.ipynb\" target=\"_parent\"><img src=\"https://colab.research.google.com/assets/colab-badge.svg\" alt=\"Open In Colab\"/></a>"
      ]
    },
    {
      "cell_type": "code",
      "execution_count": 1,
      "metadata": {
        "id": "hwQVDp3gVs1s"
      },
      "outputs": [],
      "source": [
        "from sklearn.datasets import fetch_openml\n",
        "mice = fetch_openml(name='miceprotein', version=4)"
      ]
    },
    {
      "source": [
        "import numpy as np # Import numpy and give it the standard alias 'np'\n",
        "from sklearn.datasets import fetch_openml\n",
        "\n",
        "mice = fetch_openml(name='miceprotein', version=4)\n",
        "\n",
        "mice.data.shape\n",
        "mice.target.shape\n",
        "np.unique(mice.target) # Now 'np' is recognized and the code should work"
      ],
      "cell_type": "code",
      "metadata": {
        "id": "yAU9iJLzWRhw",
        "colab": {
          "base_uri": "https://localhost:8080/"
        },
        "outputId": "314e32ed-63e4-4f4e-b623-7a2cdb43502c"
      },
      "execution_count": 2,
      "outputs": [
        {
          "output_type": "execute_result",
          "data": {
            "text/plain": [
              "array(['c-CS-m', 'c-CS-s', 'c-SC-m', 'c-SC-s', 't-CS-m', 't-CS-s',\n",
              "       't-SC-m', 't-SC-s'], dtype=object)"
            ]
          },
          "metadata": {},
          "execution_count": 2
        }
      ]
    },
    {
      "cell_type": "code",
      "source": [
        "from google.colab import drive\n",
        "drive.mount('/content/drive')"
      ],
      "metadata": {
        "id": "sTUI49h_cImt",
        "colab": {
          "base_uri": "https://localhost:8080/"
        },
        "outputId": "41d17518-c5a1-4dcb-ceff-5eace757d6ff"
      },
      "execution_count": 3,
      "outputs": [
        {
          "output_type": "stream",
          "name": "stdout",
          "text": [
            "Mounted at /content/drive\n"
          ]
        }
      ]
    },
    {
      "cell_type": "code",
      "source": [
        "print(mice.DESCR)\n",
        "\n",
        "mice.details"
      ],
      "metadata": {
        "id": "EdUDEQLSWd-X",
        "colab": {
          "base_uri": "https://localhost:8080/"
        },
        "outputId": "777533a4-6c0c-4e98-eef2-00da8a757322"
      },
      "execution_count": 4,
      "outputs": [
        {
          "output_type": "stream",
          "name": "stdout",
          "text": [
            "**Author**: Clara Higuera, Katheleen J. Gardiner, Krzysztof J. Cios  \n",
            "**Source**: [UCI](https://archive.ics.uci.edu/ml/datasets/Mice+Protein+Expression) - 2015   \n",
            "**Please cite**: Higuera C, Gardiner KJ, Cios KJ (2015) Self-Organizing Feature Maps Identify Proteins Critical to Learning in a Mouse Model of Down Syndrome. PLoS ONE 10(6): e0129126.\n",
            "\n",
            "Expression levels of 77 proteins measured in the cerebral cortex of 8 classes of control and Down syndrome mice exposed to context fear conditioning, a task used to assess associative learning.\n",
            "\n",
            "The data set consists of the expression levels of 77 proteins/protein modifications that produced detectable signals in the nuclear fraction of cortex. There are 38 control mice and 34 trisomic mice (Down syndrome), for a total of 72 mice. In the experiments, 15 measurements were registered of each protein per sample/mouse. Therefore, for control mice, there are 38x15, or 570 measurements, and for trisomic mice, there are 34x15, or 510 measurements. The dataset contains a total of 1080 measurements per protein. Each measurement can be considered as an independent sample/mouse. \n",
            "\n",
            "The eight classes of mice are described based on features such as genotype, behavior and treatment. According to genotype, mice can be control or trisomic. According to behavior, some mice have been stimulated to learn (context-shock) and others have not (shock-context) and in order to assess the effect of the drug memantine in recovering the ability to learn in trisomic mice, some mice have been injected with the drug and others have not. \n",
            "\n",
            "Classes: \n",
            "```\n",
            "* c-CS-s: control mice, stimulated to learn, injected with saline (9 mice) \n",
            "* c-CS-m: control mice, stimulated to learn, injected with memantine (10 mice) \n",
            "* c-SC-s: control mice, not stimulated to learn, injected with saline (9 mice) \n",
            "* c-SC-m: control mice, not stimulated to learn, injected with memantine (10 mice) \n",
            "* t-CS-s: trisomy mice, stimulated to learn, injected with saline (7 mice) \n",
            "* t-CS-m: trisomy mice, stimulated to learn, injected with memantine (9 mice) \n",
            "* t-SC-s: trisomy mice, not stimulated to learn, injected with saline (9 mice) \n",
            "* t-SC-m: trisomy mice, not stimulated to learn, injected with memantine (9 mice) \n",
            "```\n",
            "\n",
            "The aim is to identify subsets of proteins that are discriminant between the classes. \n",
            "\n",
            "### Attribute Information:\n",
            "\n",
            "```\n",
            "1 Mouse ID \n",
            "2..78 Values of expression levels of 77 proteins; the names of proteins are followed by &acirc;&euro;&oelig;_n&acirc;&euro; indicating that they were measured in the nuclear fraction. For example: DYRK1A_n \n",
            "79 Genotype: control (c) or trisomy (t) \n",
            "80 Treatment type: memantine (m) or saline (s) \n",
            "81 Behavior: context-shock (CS) or shock-context (SC) \n",
            "82 Class: c-CS-s, c-CS-m, c-SC-s, c-SC-m, t-CS-s, t-CS-m, t-SC-s, t-SC-m \n",
            "```\n",
            "\n",
            "### Relevant Papers:\n",
            "\n",
            "Higuera C, Gardiner KJ, Cios KJ (2015) Self-Organizing Feature Maps Identify Proteins Critical to Learning in a Mouse Model of Down Syndrome. PLoS ONE 10(6): e0129126. [Web Link] journal.pone.0129126 \n",
            "\n",
            "Ahmed MM, Dhanasekaran AR, Block A, Tong S, Costa ACS, Stasko M, et al. (2015) Protein Dynamics Associated with Failed and Rescued Learning in the Ts65Dn Mouse Model of Down Syndrome. PLoS ONE 10(3): e0119491.\n",
            "\n",
            "Downloaded from openml.org.\n"
          ]
        },
        {
          "output_type": "execute_result",
          "data": {
            "text/plain": [
              "{'id': '40966',\n",
              " 'name': 'MiceProtein',\n",
              " 'version': '4',\n",
              " 'description_version': '1',\n",
              " 'format': 'ARFF',\n",
              " 'upload_date': '2017-11-08T16:00:15',\n",
              " 'licence': 'Public',\n",
              " 'url': 'https://api.openml.org/data/v1/download/17928620/MiceProtein.arff',\n",
              " 'parquet_url': 'https://data.openml.org/datasets/0004/40966/dataset_40966.pq',\n",
              " 'file_id': '17928620',\n",
              " 'default_target_attribute': 'class',\n",
              " 'row_id_attribute': 'MouseID',\n",
              " 'ignore_attribute': ['Genotype', 'Treatment', 'Behavior'],\n",
              " 'tag': ['Biology',\n",
              "  'Data Science',\n",
              "  'Health',\n",
              "  'OpenML-CC18',\n",
              "  'Research',\n",
              "  'study_135',\n",
              "  'study_98',\n",
              "  'study_99'],\n",
              " 'visibility': 'public',\n",
              " 'minio_url': 'https://data.openml.org/datasets/0004/40966/dataset_40966.pq',\n",
              " 'status': 'active',\n",
              " 'processing_date': '2018-10-04 00:49:58',\n",
              " 'md5_checksum': '3c479a6885bfa0438971388283a1ce32'}"
            ]
          },
          "metadata": {},
          "execution_count": 4
        }
      ]
    },
    {
      "cell_type": "code",
      "source": [
        "mice.url"
      ],
      "metadata": {
        "id": "cHzIcopfWif9",
        "colab": {
          "base_uri": "https://localhost:8080/",
          "height": 35
        },
        "outputId": "b591990d-a1be-4a84-dc78-c3642d2f19cb"
      },
      "execution_count": 5,
      "outputs": [
        {
          "output_type": "execute_result",
          "data": {
            "text/plain": [
              "'https://www.openml.org/d/40966'"
            ],
            "application/vnd.google.colaboratory.intrinsic+json": {
              "type": "string"
            }
          },
          "metadata": {},
          "execution_count": 5
        }
      ]
    },
    {
      "cell_type": "code",
      "source": [
        "mice = fetch_openml(data_id=40966)\n",
        "mice.details"
      ],
      "metadata": {
        "id": "yKVdOCcQWmtN",
        "colab": {
          "base_uri": "https://localhost:8080/"
        },
        "outputId": "ddb65099-53b4-423b-e10c-54ab7bc54422"
      },
      "execution_count": 6,
      "outputs": [
        {
          "output_type": "execute_result",
          "data": {
            "text/plain": [
              "{'id': '40966',\n",
              " 'name': 'MiceProtein',\n",
              " 'version': '4',\n",
              " 'description_version': '1',\n",
              " 'format': 'ARFF',\n",
              " 'upload_date': '2017-11-08T16:00:15',\n",
              " 'licence': 'Public',\n",
              " 'url': 'https://api.openml.org/data/v1/download/17928620/MiceProtein.arff',\n",
              " 'parquet_url': 'https://data.openml.org/datasets/0004/40966/dataset_40966.pq',\n",
              " 'file_id': '17928620',\n",
              " 'default_target_attribute': 'class',\n",
              " 'row_id_attribute': 'MouseID',\n",
              " 'ignore_attribute': ['Genotype', 'Treatment', 'Behavior'],\n",
              " 'tag': ['Biology',\n",
              "  'Data Science',\n",
              "  'Health',\n",
              "  'OpenML-CC18',\n",
              "  'Research',\n",
              "  'study_135',\n",
              "  'study_98',\n",
              "  'study_99'],\n",
              " 'visibility': 'public',\n",
              " 'minio_url': 'https://data.openml.org/datasets/0004/40966/dataset_40966.pq',\n",
              " 'status': 'active',\n",
              " 'processing_date': '2018-10-04 00:49:58',\n",
              " 'md5_checksum': '3c479a6885bfa0438971388283a1ce32'}"
            ]
          },
          "metadata": {},
          "execution_count": 6
        }
      ]
    },
    {
      "cell_type": "code",
      "source": [
        "mice.details['version']"
      ],
      "metadata": {
        "id": "JDZ0ti9dWnsJ",
        "colab": {
          "base_uri": "https://localhost:8080/",
          "height": 35
        },
        "outputId": "7aebac9c-7a74-4753-cea9-0901d8160172"
      },
      "execution_count": 7,
      "outputs": [
        {
          "output_type": "execute_result",
          "data": {
            "text/plain": [
              "'4'"
            ],
            "application/vnd.google.colaboratory.intrinsic+json": {
              "type": "string"
            }
          },
          "metadata": {},
          "execution_count": 7
        }
      ]
    },
    {
      "cell_type": "code",
      "source": [
        "iris = fetch_openml(name=\"iris\")\n",
        "iris.details['version']\n",
        "iris.details['id']\n",
        "\n",
        "iris_61 = fetch_openml(data_id=61)\n",
        "iris_61.details['version']\n",
        "iris_61.details['id']\n",
        "\n",
        "iris_969 = fetch_openml(data_id=969)\n",
        "iris_969.details['version']\n",
        "iris_969.details['id']"
      ],
      "metadata": {
        "id": "UOsOjkerWr1b",
        "colab": {
          "base_uri": "https://localhost:8080/",
          "height": 174
        },
        "outputId": "7ad981a3-2538-472f-8466-b3f889f4603d"
      },
      "execution_count": 8,
      "outputs": [
        {
          "output_type": "stream",
          "name": "stderr",
          "text": [
            "/usr/local/lib/python3.11/dist-packages/sklearn/datasets/_openml.py:323: UserWarning: Multiple active versions of the dataset matching the name iris exist. Versions may be fundamentally different, returning version 1. Available versions:\n",
            "- version 1, status: active\n",
            "  url: https://www.openml.org/search?type=data&id=61\n",
            "- version 3, status: active\n",
            "  url: https://www.openml.org/search?type=data&id=969\n",
            "\n",
            "  warn(warning_msg)\n"
          ]
        },
        {
          "output_type": "execute_result",
          "data": {
            "text/plain": [
              "'969'"
            ],
            "application/vnd.google.colaboratory.intrinsic+json": {
              "type": "string"
            }
          },
          "metadata": {},
          "execution_count": 8
        }
      ]
    },
    {
      "cell_type": "code",
      "source": [
        "np.unique(iris_969.target)"
      ],
      "metadata": {
        "id": "7hqvfmb7Wzr6",
        "colab": {
          "base_uri": "https://localhost:8080/"
        },
        "outputId": "0a0b9a97-f2a1-49a3-db2a-d73c72d8a8aa"
      },
      "execution_count": 9,
      "outputs": [
        {
          "output_type": "execute_result",
          "data": {
            "text/plain": [
              "array(['N', 'P'], dtype=object)"
            ]
          },
          "metadata": {},
          "execution_count": 9
        }
      ]
    },
    {
      "cell_type": "code",
      "source": [
        "iris_version_3 = fetch_openml(name=\"iris\", version=3)\n",
        "iris_version_3.details['version']\n",
        "iris_version_3.details['id']"
      ],
      "metadata": {
        "id": "OxDJkqqRW3b8",
        "colab": {
          "base_uri": "https://localhost:8080/",
          "height": 35
        },
        "outputId": "710ba9b2-a225-4d17-bbe2-96498de87ab8"
      },
      "execution_count": 10,
      "outputs": [
        {
          "output_type": "execute_result",
          "data": {
            "text/plain": [
              "'969'"
            ],
            "application/vnd.google.colaboratory.intrinsic+json": {
              "type": "string"
            }
          },
          "metadata": {},
          "execution_count": 10
        }
      ]
    },
    {
      "cell_type": "code",
      "source": [],
      "metadata": {
        "id": "PyPjYyz8W6Pl"
      },
      "execution_count": 10,
      "outputs": []
    }
  ]
}